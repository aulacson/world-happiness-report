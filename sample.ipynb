{
 "cells": [
  {
   "cell_type": "markdown",
   "metadata": {
    "tags": []
   },
   "source": [
    "# World Happiness Report\n",
    "\n",
    "The World Happiness Report is a measure of the state of global happiness based on various quality of life factors. Results from these are used to inform multiple governments and organizations of policy-making decisions, as well as aid experts in the assessment of a nation's progress. For this notebook, we will be exploring some trends from 2015 to 2019, as well as study the correlations in the 2019 dataset."
   ]
  },
  {
   "cell_type": "code",
   "execution_count": 1,
   "metadata": {},
   "outputs": [],
   "source": [
    "import pandas as pd\n",
    "import numpy as np\n",
    "import seaborn as sns\n",
    "from datetime import datetime\n",
    "import matplotlib.pyplot as plt\n",
    "\n",
    "# import data\n",
    "df_2015 = pd.read_csv('2015.csv')\n",
    "df_2016 = pd.read_csv('2016.csv')\n",
    "df_2017 = pd.read_csv('2017.csv')\n",
    "df_2018 = pd.read_csv('2018.csv')\n",
    "df_2019 = pd.read_csv('2019.csv')"
   ]
  },
  {
   "cell_type": "markdown",
   "metadata": {
    "tags": []
   },
   "source": [
    "## Data Cleaning"
   ]
  },
  {
   "cell_type": "code",
   "execution_count": 2,
   "metadata": {},
   "outputs": [],
   "source": [
    "#drop NA values\n",
    "df_2015.dropna(inplace = True)\n",
    "df_2016.dropna(inplace = True)\n",
    "df_2017.dropna(inplace = True)\n",
    "df_2018.dropna(inplace = True)\n",
    "df_2019.dropna(inplace = True)"
   ]
  },
  {
   "cell_type": "code",
   "execution_count": 3,
   "metadata": {},
   "outputs": [],
   "source": [
    "# rename columns\n",
    "\n",
    "column_names = ['country', 'happiness-rank', 'happiness-score', 'gdp-per-capita', 'social-support', 'healthy-life-expectancy', 'freedom', 'generosity', 'government-trust']\n",
    "\n",
    "df_2015.columns.values[[0, 2, 3, 5, 6, 7, 8, 10, 9]] = column_names\n",
    "df_2016.columns.values[[0, 2, 3, 6, 7, 8, 9, 11, 10]] = column_names\n",
    "df_2017.columns.values[[0, 1, 2, 5, 6, 7, 8, 9, 10]] = column_names\n",
    "df_2018.columns.values[[1, 0, 2, 3, 4, 5, 6, 7, 8]] = column_names\n",
    "df_2019.columns.values[[1, 0, 2, 3, 4, 5, 6, 7, 8]] = column_names\n",
    "\n",
    "df_2015.rename(columns={'Region': 'region'}, inplace = True)\n",
    "df_2016.rename(columns={'Region': 'region'}, inplace = True)"
   ]
  },
  {
   "cell_type": "code",
   "execution_count": 4,
   "metadata": {},
   "outputs": [
    {
     "name": "stdout",
     "output_type": "stream",
     "text": [
      "Countries with No Mapped Region: ['Taiwan Province of China', 'Hong Kong S.A.R., China', 'Trinidad & Tobago', 'Northern Cyprus', 'North Macedonia', 'Gambia']\n"
     ]
    }
   ],
   "source": [
    "#determine which countries do not have information on regions\n",
    "unique_countries = pd.concat([df_2015['country'], df_2016['country'], df_2017['country'], df_2018['country'], df_2019['country']]).unique()\n",
    "countries_with_region = pd.concat([df_2015['country'], df_2016['country']])\n",
    "region = pd.concat([df_2015['region'], df_2016['region']])\n",
    "missing_countries = [country for country in unique_countries if country not in countries_with_region.unique()]\n",
    "\n",
    "print (f'Countries with No Mapped Region: {missing_countries}')"
   ]
  },
  {
   "cell_type": "code",
   "execution_count": 5,
   "metadata": {},
   "outputs": [],
   "source": [
    "#set country to region map\n",
    "country_region_map = dict(zip(countries_with_region, region))\n",
    "country_region_map['Taiwan Province of China'] = 'Eastern Asia'\n",
    "country_region_map['Hong Kong S.A.R., China'] = 'Eastern Asia'\n",
    "country_region_map['Trinidad & Tobago'] = 'Latin America and Caribbean'\n",
    "country_region_map['Northern Cyprus'] = 'Middle East and Northern Africa'\n",
    "country_region_map['North Macedonia'] ='Central and Eastern Europe'\n",
    "country_region_map['Gambia'] = 'Sub-Saharan Africa'\n",
    "\n",
    "# add region column to 2017 - 2019 datasets\n",
    "df_2017['region'] = df_2017['country'].map(country_region_map)\n",
    "df_2018['region'] = df_2018['country'].map(country_region_map)\n",
    "df_2019['region'] = df_2019['country'].map(country_region_map)\n",
    "\n",
    "column_names.append('region')"
   ]
  },
  {
   "cell_type": "code",
   "execution_count": 6,
   "metadata": {},
   "outputs": [],
   "source": [
    "# add year column\n",
    "df_2015['year'] = 2015\n",
    "df_2016['year'] = 2016\n",
    "df_2017['year'] = 2017\n",
    "df_2018['year'] = 2018\n",
    "df_2019['year'] = 2019\n",
    "column_names.append('year')\n",
    "\n",
    "# compile dataframes\n",
    "\n",
    "df = pd.concat([df_2015[column_names], df_2016[column_names], df_2017[column_names], df_2018[column_names], df_2019[column_names]])"
   ]
  }
 ],
 "metadata": {
  "kernelspec": {
   "display_name": "Python 3 (ipykernel)",
   "language": "python",
   "name": "python3"
  },
  "language_info": {
   "codemirror_mode": {
    "name": "ipython",
    "version": 3
   },
   "file_extension": ".py",
   "mimetype": "text/x-python",
   "name": "python",
   "nbconvert_exporter": "python",
   "pygments_lexer": "ipython3",
   "version": "3.8.10"
  }
 },
 "nbformat": 4,
 "nbformat_minor": 4
}
